{
 "cells": [
  {
   "cell_type": "code",
   "execution_count": 1,
   "id": "a8fa05d6",
   "metadata": {},
   "outputs": [
    {
     "name": "stderr",
     "output_type": "stream",
     "text": [
      "\u001b[34m\u001b[1mwandb\u001b[0m: Currently logged in as: \u001b[33maambekar234\u001b[0m (use `wandb login --relogin` to force relogin)\n",
      "\u001b[34m\u001b[1mwandb\u001b[0m: wandb version 0.16.1 is available!  To upgrade, please run:\n",
      "\u001b[34m\u001b[1mwandb\u001b[0m:  $ pip install wandb --upgrade\n"
     ]
    },
    {
     "data": {
      "text/html": [
       "\n",
       "                Tracking run with wandb version 0.10.31<br/>\n",
       "                Syncing run <strong style=\"color:#cdcd00\">laced-fire-15</strong> to <a href=\"https://wandb.ai\" target=\"_blank\">Weights & Biases</a> <a href=\"https://docs.wandb.com/integrations/jupyter.html\" target=\"_blank\">(Documentation)</a>.<br/>\n",
       "                Project page: <a href=\"https://wandb.ai/aambekar234/nyc_airbnb\" target=\"_blank\">https://wandb.ai/aambekar234/nyc_airbnb</a><br/>\n",
       "                Run page: <a href=\"https://wandb.ai/aambekar234/nyc_airbnb/runs/hx6upn8l\" target=\"_blank\">https://wandb.ai/aambekar234/nyc_airbnb/runs/hx6upn8l</a><br/>\n",
       "                Run data is saved locally in <code>/Users/abhi/Workspace/udacity/mlops-course/build-ml-pipeline-for-short-term-rental-prices/src/eda/wandb/run-20231221_220531-hx6upn8l</code><br/><br/>\n",
       "            "
      ],
      "text/plain": [
       "<IPython.core.display.HTML object>"
      ]
     },
     "metadata": {},
     "output_type": "display_data"
    }
   ],
   "source": [
    " import wandb\n",
    " import pandas as pd\n",
    "\n",
    " run = wandb.init(project=\"nyc_airbnb\", group=\"eda\", save_code=True)\n"
   ]
  },
  {
   "cell_type": "code",
   "execution_count": 2,
   "id": "78d0cfb0",
   "metadata": {},
   "outputs": [],
   "source": [
    " local_path = wandb.use_artifact(\"sample.csv:latest\").file()\n",
    " df = pd.read_csv(local_path)"
   ]
  },
  {
   "cell_type": "code",
   "execution_count": 3,
   "id": "0466f3b5",
   "metadata": {},
   "outputs": [
    {
     "data": {
      "application/vnd.jupyter.widget-view+json": {
       "model_id": "4be5c6f1afd544bcb5664155df68b2ff",
       "version_major": 2,
       "version_minor": 0
      },
      "text/plain": [
       "Summarize dataset:   0%|          | 0/5 [00:00<?, ?it/s]"
      ]
     },
     "metadata": {},
     "output_type": "display_data"
    },
    {
     "data": {
      "application/vnd.jupyter.widget-view+json": {
       "model_id": "0be204f6fea04701928296ac8714b8c6",
       "version_major": 2,
       "version_minor": 0
      },
      "text/plain": [
       "Generate report structure:   0%|          | 0/1 [00:00<?, ?it/s]"
      ]
     },
     "metadata": {},
     "output_type": "display_data"
    },
    {
     "data": {
      "application/vnd.jupyter.widget-view+json": {
       "model_id": "",
       "version_major": 2,
       "version_minor": 0
      },
      "text/plain": [
       "Render widgets:   0%|          | 0/1 [00:00<?, ?it/s]"
      ]
     },
     "metadata": {},
     "output_type": "display_data"
    },
    {
     "data": {
      "application/vnd.jupyter.widget-view+json": {
       "model_id": "3d8e0a2785344e008e2d1149b0fda594",
       "version_major": 2,
       "version_minor": 0
      },
      "text/plain": [
       "VBox(children=(Tab(children=(Tab(children=(GridBox(children=(VBox(children=(GridspecLayout(children=(HTML(valu…"
      ]
     },
     "metadata": {},
     "output_type": "display_data"
    }
   ],
   "source": [
    "import pandas as pd\n",
    "from ydata_profiling import ProfileReport\n",
    "\n",
    "profile = ProfileReport(df, title=\"Profile Report\")\n",
    "profile.to_widgets()\n",
    "#profile.to_file('./data_profile_report.html')"
   ]
  },
  {
   "cell_type": "code",
   "execution_count": 4,
   "id": "401dee68",
   "metadata": {},
   "outputs": [
    {
     "data": {
      "application/vnd.jupyter.widget-view+json": {
       "model_id": "b2597453d7ba4640a23eaf7296ed3054",
       "version_major": 2,
       "version_minor": 0
      },
      "text/plain": [
       "Render HTML:   0%|          | 0/1 [00:00<?, ?it/s]"
      ]
     },
     "metadata": {},
     "output_type": "display_data"
    },
    {
     "data": {
      "application/vnd.jupyter.widget-view+json": {
       "model_id": "d6f7c4f54f5748cf8ef10ba872f06c1d",
       "version_major": 2,
       "version_minor": 0
      },
      "text/plain": [
       "Export report to file:   0%|          | 0/1 [00:00<?, ?it/s]"
      ]
     },
     "metadata": {},
     "output_type": "display_data"
    }
   ],
   "source": [
    "profile.to_file('./data_profile_report.html')"
   ]
  },
  {
   "cell_type": "code",
   "execution_count": 5,
   "id": "f3f22b72",
   "metadata": {},
   "outputs": [],
   "source": [
    "# Drop outliers\n",
    "min_price = 10\n",
    "max_price = 350\n",
    "idx = df['price'].between(min_price, max_price)"
   ]
  },
  {
   "cell_type": "code",
   "execution_count": 10,
   "id": "d3c254c5",
   "metadata": {},
   "outputs": [
    {
     "name": "stderr",
     "output_type": "stream",
     "text": [
      "/var/folders/2g/3bp7rbqx2130vhdmtxtnrskh0000gn/T/ipykernel_22288/1653967146.py:1: UserWarning: Boolean Series key will be reindexed to match DataFrame index.\n",
      "  df = df[idx].copy()\n"
     ]
    }
   ],
   "source": [
    "df = df[idx].copy()"
   ]
  },
  {
   "cell_type": "code",
   "execution_count": 11,
   "id": "ab6c59f7",
   "metadata": {},
   "outputs": [
    {
     "name": "stdout",
     "output_type": "stream",
     "text": [
      "             id                                               name    host_id  \\\n",
      "0       9138664                Private Lg Room 15 min to Manhattan   47594947   \n",
      "1      31444015  TIME SQUARE CHARMING ONE BED IN HELL'S KITCHEN...    8523790   \n",
      "2       8741020  Voted #1 Location Quintessential 1BR W Village...   45854238   \n",
      "3      34602077  Spacious 1 bedroom apartment 15min from Manhattan  261055465   \n",
      "4      23203149   Big beautiful bedroom in huge Bushwick apartment     143460   \n",
      "...         ...                                                ...        ...   \n",
      "19995   7094539                  Tranquil haven in bubbly Brooklyn    2052211   \n",
      "19996   4424261                    Large 1 BR with backyard on UWS    3447311   \n",
      "19997   4545882                Amazing studio/Loft with a backyard   23569951   \n",
      "19998  26518547          U2 comfortable double bed sleeps 2 guests     295128   \n",
      "19999  33631782               Private Bedroom in Williamsburg Apt!    8569221   \n",
      "\n",
      "          host_name neighbourhood_group    neighbourhood  latitude  longitude  \\\n",
      "0              Iris              Queens        Sunnyside  40.74271  -73.92493   \n",
      "1            Johlex           Manhattan   Hell's Kitchen  40.76682  -73.98878   \n",
      "2              John           Manhattan     West Village  40.73631  -74.00611   \n",
      "3             Regan              Queens          Astoria  40.76424  -73.92351   \n",
      "4             Megan            Brooklyn         Bushwick  40.69839  -73.92044   \n",
      "...             ...                 ...              ...       ...        ...   \n",
      "19995       Adriana            Brooklyn  Windsor Terrace  40.65360  -73.97546   \n",
      "19996         Sarah           Manhattan  Upper West Side  40.80188  -73.96808   \n",
      "19997         Kaveh           Manhattan  Upper East Side  40.78110  -73.94567   \n",
      "19998  Carol Gloria               Bronx     Clason Point  40.81225  -73.85502   \n",
      "19999          Andi            Brooklyn     Williamsburg  40.71829  -73.95819   \n",
      "\n",
      "             room_type  price  minimum_nights  number_of_reviews last_review  \\\n",
      "0         Private room     74               2                  6  2019-05-26   \n",
      "1      Entire home/apt    170               3                  0         NaN   \n",
      "2      Entire home/apt    245               3                 51  2018-09-19   \n",
      "3      Entire home/apt    125               3                  1  2019-05-24   \n",
      "4         Private room     65               2                  8  2019-06-23   \n",
      "...                ...    ...             ...                ...         ...   \n",
      "19995  Entire home/apt    143              14                  2  2016-08-27   \n",
      "19996  Entire home/apt    200               2                 22  2019-05-21   \n",
      "19997  Entire home/apt    220               3                 28  2019-05-23   \n",
      "19998     Private room     80               1                  4  2019-07-01   \n",
      "19999     Private room    109               3                  3  2019-04-28   \n",
      "\n",
      "       reviews_per_month  calculated_host_listings_count  availability_365  \n",
      "0                   0.13                               1                 5  \n",
      "1                    NaN                               1               188  \n",
      "2                   1.12                               1                 0  \n",
      "3                   0.65                               1                13  \n",
      "4                   0.52                               2                 8  \n",
      "...                  ...                             ...               ...  \n",
      "19995               0.04                               1                10  \n",
      "19996               0.50                               1                 0  \n",
      "19997               0.50                               1               293  \n",
      "19998               1.48                               7               365  \n",
      "19999               1.07                               2                97  \n",
      "\n",
      "[19001 rows x 16 columns]\n"
     ]
    },
    {
     "name": "stderr",
     "output_type": "stream",
     "text": [
      "wandb: Network error (ReadTimeout), entering retry loop.\n",
      "\u001b[34m\u001b[1mwandb\u001b[0m: Network error resolved after 0:11:27.579553, resuming normal operation.\n"
     ]
    }
   ],
   "source": [
    "print(df)"
   ]
  },
  {
   "cell_type": "code",
   "execution_count": null,
   "id": "200656ec",
   "metadata": {},
   "outputs": [],
   "source": []
  }
 ],
 "metadata": {
  "kernelspec": {
   "display_name": "Python 3 (ipykernel)",
   "language": "python",
   "name": "python3"
  },
  "language_info": {
   "codemirror_mode": {
    "name": "ipython",
    "version": 3
   },
   "file_extension": ".py",
   "mimetype": "text/x-python",
   "name": "python",
   "nbconvert_exporter": "python",
   "pygments_lexer": "ipython3",
   "version": "3.8.15"
  }
 },
 "nbformat": 4,
 "nbformat_minor": 5
}
